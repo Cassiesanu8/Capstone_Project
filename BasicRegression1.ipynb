{
  "nbformat": 4,
  "nbformat_minor": 0,
  "metadata": {
    "colab": {
      "name": "BasicRegression1.ipynb",
      "provenance": [],
      "authorship_tag": "ABX9TyMOg5yQOBvB1s99w+kaXnWO",
      "include_colab_link": true
    },
    "kernelspec": {
      "name": "python3",
      "display_name": "Python 3"
    },
    "language_info": {
      "name": "python"
    }
  },
  "cells": [
    {
      "cell_type": "markdown",
      "metadata": {
        "id": "view-in-github",
        "colab_type": "text"
      },
      "source": [
        "<a href=\"https://colab.research.google.com/github/Cassiesanu8/Capstone_Project/blob/main/BasicRegression1.ipynb\" target=\"_parent\"><img src=\"https://colab.research.google.com/assets/colab-badge.svg\" alt=\"Open In Colab\"/></a>"
      ]
    },
    {
      "cell_type": "markdown",
      "source": [
        "# Regression Analysis\n",
        "\n",
        "Regression analysis refers to the use of statistical methods to estimate the relationships between one or more independent variables and dependent variables. \n",
        "\n",
        "Regression is a powerful tool as it is used to assess the strength of the relationship between two or more variables, and then it would be used for modeling the relationship between those variables in the future.\n",
        "\n",
        "[source](https://en.wikipedia.org/wiki/Regression_analysis)\n"
      ],
      "metadata": {
        "id": "TizNlp7ooyVG"
      }
    },
    {
      "cell_type": "markdown",
      "source": [
        "# Building a basic regression model.\n",
        "\n",
        "###*We know that a Linear regression is a way to model the relationship between two variables. We will use the equation as the slope formula. The equation has the form:* \n",
        "\n",
        "<font size =  6><center>$Y = \\alpha + \\beta X$</center></font>\n",
        "\n",
        "*where `Y` is the dependent variable (that’s the variable on the vertical or `Y` axis).*\n",
        "\n",
        "*`X` is the independent variable (i.e. it is plotted on the Horizonr=tal or `X` axis).*\n",
        "\n",
        " *`b` is the slope of the line and `a` is the `y-intercept`.*"
      ],
      "metadata": {
        "id": "Z88cEUhYrQXR"
      }
    },
    {
      "cell_type": "markdown",
      "source": [
        "# Import the Libraries"
      ],
      "metadata": {
        "id": "GoBc0LPbrRdF"
      }
    },
    {
      "cell_type": "code",
      "source": [
        "import pandas as pd\n",
        "import numpy as np\n",
        "import math\n",
        "import statsmodels.formula.api as smf #statsmodels.formula.api: A convenience interface for specifying models using formula strings and DataFrames. This API directly exposes the from_formula class method of models that support the formula API. Canonically imported using import statsmodels.formula.api as smf\n",
        "from sklearn.linear_model import LinearRegression #LinearRegression fits a linear model with coefficients w = (w1, …, wp) to minimize the residual sum of squares between the observed targets in the dataset, and the targets predicted by the linear approximation.\n",
        "from matplotlib import pyplot as plt # Matplotlib is a low level graph plotting library in python that serves as a visualization utility."
      ],
      "metadata": {
        "id": "Dlf-BWyttd1y"
      },
      "execution_count": 26,
      "outputs": []
    },
    {
      "cell_type": "markdown",
      "source": [
        "## To construct our analysis, first, let's generate some 'random' data"
      ],
      "metadata": {
        "id": "Ck51WkTctdx5"
      }
    },
    {
      "cell_type": "code",
      "source": [
        "np.random.seed(10) # https://www.sharpsightlabs.com/blog/numpy-random-seed/\n",
        "X = 2.5 * np.random.randn(1000) + 1.5   # Array of 100 values with mean = 1.5, stddev = 2.5\n",
        "res = 0.5 * np.random.randn(1000)       # Generate 100 residual terms\n",
        "y = 2 + 0.3 * X + res                   # Actual values of Y"
      ],
      "metadata": {
        "id": "ouTXUKxKtdt2"
      },
      "execution_count": 27,
      "outputs": []
    },
    {
      "cell_type": "markdown",
      "source": [
        "## Now, let's create a pandas dataframe to store our X and y values"
      ],
      "metadata": {
        "id": "i1BOoc1qtdpT"
      }
    },
    {
      "cell_type": "code",
      "source": [
        "df = pd.DataFrame({'X': X,'y': y})"
      ],
      "metadata": {
        "id": "axgd-Ib5tdjb"
      },
      "execution_count": 28,
      "outputs": []
    },
    {
      "cell_type": "code",
      "source": [
        "df.head()"
      ],
      "metadata": {
        "colab": {
          "base_uri": "https://localhost:8080/",
          "height": 206
        },
        "id": "XPBSIeVLvt9H",
        "outputId": "5696a109-c885-40f7-d2d7-531880095a41"
      },
      "execution_count": 29,
      "outputs": [
        {
          "output_type": "execute_result",
          "data": {
            "text/plain": [
              "          X         y\n",
              "0  4.828966  4.205316\n",
              "1  3.288197  2.915292\n",
              "2 -2.363501  1.221240\n",
              "3  1.479040  3.031466\n",
              "4  3.053340  3.507896"
            ],
            "text/html": [
              "\n",
              "  <div id=\"df-9c9411cf-8a4b-40a3-b9cf-f0518e88941b\">\n",
              "    <div class=\"colab-df-container\">\n",
              "      <div>\n",
              "<style scoped>\n",
              "    .dataframe tbody tr th:only-of-type {\n",
              "        vertical-align: middle;\n",
              "    }\n",
              "\n",
              "    .dataframe tbody tr th {\n",
              "        vertical-align: top;\n",
              "    }\n",
              "\n",
              "    .dataframe thead th {\n",
              "        text-align: right;\n",
              "    }\n",
              "</style>\n",
              "<table border=\"1\" class=\"dataframe\">\n",
              "  <thead>\n",
              "    <tr style=\"text-align: right;\">\n",
              "      <th></th>\n",
              "      <th>X</th>\n",
              "      <th>y</th>\n",
              "    </tr>\n",
              "  </thead>\n",
              "  <tbody>\n",
              "    <tr>\n",
              "      <th>0</th>\n",
              "      <td>4.828966</td>\n",
              "      <td>4.205316</td>\n",
              "    </tr>\n",
              "    <tr>\n",
              "      <th>1</th>\n",
              "      <td>3.288197</td>\n",
              "      <td>2.915292</td>\n",
              "    </tr>\n",
              "    <tr>\n",
              "      <th>2</th>\n",
              "      <td>-2.363501</td>\n",
              "      <td>1.221240</td>\n",
              "    </tr>\n",
              "    <tr>\n",
              "      <th>3</th>\n",
              "      <td>1.479040</td>\n",
              "      <td>3.031466</td>\n",
              "    </tr>\n",
              "    <tr>\n",
              "      <th>4</th>\n",
              "      <td>3.053340</td>\n",
              "      <td>3.507896</td>\n",
              "    </tr>\n",
              "  </tbody>\n",
              "</table>\n",
              "</div>\n",
              "      <button class=\"colab-df-convert\" onclick=\"convertToInteractive('df-9c9411cf-8a4b-40a3-b9cf-f0518e88941b')\"\n",
              "              title=\"Convert this dataframe to an interactive table.\"\n",
              "              style=\"display:none;\">\n",
              "        \n",
              "  <svg xmlns=\"http://www.w3.org/2000/svg\" height=\"24px\"viewBox=\"0 0 24 24\"\n",
              "       width=\"24px\">\n",
              "    <path d=\"M0 0h24v24H0V0z\" fill=\"none\"/>\n",
              "    <path d=\"M18.56 5.44l.94 2.06.94-2.06 2.06-.94-2.06-.94-.94-2.06-.94 2.06-2.06.94zm-11 1L8.5 8.5l.94-2.06 2.06-.94-2.06-.94L8.5 2.5l-.94 2.06-2.06.94zm10 10l.94 2.06.94-2.06 2.06-.94-2.06-.94-.94-2.06-.94 2.06-2.06.94z\"/><path d=\"M17.41 7.96l-1.37-1.37c-.4-.4-.92-.59-1.43-.59-.52 0-1.04.2-1.43.59L10.3 9.45l-7.72 7.72c-.78.78-.78 2.05 0 2.83L4 21.41c.39.39.9.59 1.41.59.51 0 1.02-.2 1.41-.59l7.78-7.78 2.81-2.81c.8-.78.8-2.07 0-2.86zM5.41 20L4 18.59l7.72-7.72 1.47 1.35L5.41 20z\"/>\n",
              "  </svg>\n",
              "      </button>\n",
              "      \n",
              "  <style>\n",
              "    .colab-df-container {\n",
              "      display:flex;\n",
              "      flex-wrap:wrap;\n",
              "      gap: 12px;\n",
              "    }\n",
              "\n",
              "    .colab-df-convert {\n",
              "      background-color: #E8F0FE;\n",
              "      border: none;\n",
              "      border-radius: 50%;\n",
              "      cursor: pointer;\n",
              "      display: none;\n",
              "      fill: #1967D2;\n",
              "      height: 32px;\n",
              "      padding: 0 0 0 0;\n",
              "      width: 32px;\n",
              "    }\n",
              "\n",
              "    .colab-df-convert:hover {\n",
              "      background-color: #E2EBFA;\n",
              "      box-shadow: 0px 1px 2px rgba(60, 64, 67, 0.3), 0px 1px 3px 1px rgba(60, 64, 67, 0.15);\n",
              "      fill: #174EA6;\n",
              "    }\n",
              "\n",
              "    [theme=dark] .colab-df-convert {\n",
              "      background-color: #3B4455;\n",
              "      fill: #D2E3FC;\n",
              "    }\n",
              "\n",
              "    [theme=dark] .colab-df-convert:hover {\n",
              "      background-color: #434B5C;\n",
              "      box-shadow: 0px 1px 3px 1px rgba(0, 0, 0, 0.15);\n",
              "      filter: drop-shadow(0px 1px 2px rgba(0, 0, 0, 0.3));\n",
              "      fill: #FFFFFF;\n",
              "    }\n",
              "  </style>\n",
              "\n",
              "      <script>\n",
              "        const buttonEl =\n",
              "          document.querySelector('#df-9c9411cf-8a4b-40a3-b9cf-f0518e88941b button.colab-df-convert');\n",
              "        buttonEl.style.display =\n",
              "          google.colab.kernel.accessAllowed ? 'block' : 'none';\n",
              "\n",
              "        async function convertToInteractive(key) {\n",
              "          const element = document.querySelector('#df-9c9411cf-8a4b-40a3-b9cf-f0518e88941b');\n",
              "          const dataTable =\n",
              "            await google.colab.kernel.invokeFunction('convertToInteractive',\n",
              "                                                     [key], {});\n",
              "          if (!dataTable) return;\n",
              "\n",
              "          const docLinkHtml = 'Like what you see? Visit the ' +\n",
              "            '<a target=\"_blank\" href=https://colab.research.google.com/notebooks/data_table.ipynb>data table notebook</a>'\n",
              "            + ' to learn more about interactive tables.';\n",
              "          element.innerHTML = '';\n",
              "          dataTable['output_type'] = 'display_data';\n",
              "          await google.colab.output.renderOutput(dataTable, element);\n",
              "          const docLink = document.createElement('div');\n",
              "          docLink.innerHTML = docLinkHtml;\n",
              "          element.appendChild(docLink);\n",
              "        }\n",
              "      </script>\n",
              "    </div>\n",
              "  </div>\n",
              "  "
            ]
          },
          "metadata": {},
          "execution_count": 29
        }
      ]
    },
    {
      "cell_type": "markdown",
      "source": [
        "## Next, we want to calculate the mean of X and the mean y\n",
        "*The mean of an array refers to the sum of array elements divided by the number of elements.*"
      ],
      "metadata": {
        "id": "boGmhqqVtdZL"
      }
    },
    {
      "cell_type": "code",
      "source": [
        "xmean = np.mean(X)\n",
        "ymean = np.mean(y)"
      ],
      "metadata": {
        "id": "4lZMIl_xtdVQ"
      },
      "execution_count": 30,
      "outputs": []
    },
    {
      "cell_type": "code",
      "source": [
        "xmean"
      ],
      "metadata": {
        "colab": {
          "base_uri": "https://localhost:8080/"
        },
        "id": "M4hENGbPv_Wv",
        "outputId": "f26156ba-8dbb-4f59-f0ac-eb1d1ab9b83d"
      },
      "execution_count": 31,
      "outputs": [
        {
          "output_type": "execute_result",
          "data": {
            "text/plain": [
              "1.4636084109613239"
            ]
          },
          "metadata": {},
          "execution_count": 31
        }
      ]
    },
    {
      "cell_type": "code",
      "source": [
        "ymean"
      ],
      "metadata": {
        "colab": {
          "base_uri": "https://localhost:8080/"
        },
        "id": "uAR2eTnywCAo",
        "outputId": "94323b6c-9d61-4393-b652-d8f110c37acb"
      },
      "execution_count": 32,
      "outputs": [
        {
          "output_type": "execute_result",
          "data": {
            "text/plain": [
              "2.4335367575626234"
            ]
          },
          "metadata": {},
          "execution_count": 32
        }
      ]
    },
    {
      "cell_type": "markdown",
      "source": [
        "## Now, we need to calculate the terms needed for the numator and denominator of beta to satisfy the line equation formula. # https://byjus.com/maths/beta-function/#:~:text=Alpha%2C%20beta%20and%20gamma%20are%20Greek%20letters%20and,a%20limited%20range%2C%20such%20as%200%20to%201."
      ],
      "metadata": {
        "id": "drMlwrVFv0OH"
      }
    },
    {
      "cell_type": "code",
      "source": [
        "df['xycov'] = (df['X'] - xmean) * (df['y'] - ymean)\n",
        "df['xvar'] = (df['X'] - xmean)**2"
      ],
      "metadata": {
        "id": "t-Xv-k0Mv5DG"
      },
      "execution_count": 33,
      "outputs": []
    },
    {
      "cell_type": "markdown",
      "source": [
        "### We can now calculate $\\beta$ and $\\alpha$.\n",
        "\n",
        "*This is the formula for each...*\n",
        "\n",
        "<font size=\"6\"><center>$\\alpha = \\frac{\\sum(y)\\sum(x^2) - \\sum(x)\\sum(xy)}{n\\sum(x^2) - (\\sum(x))^2}$</center>\n",
        "<br>\n",
        "<center>$\\beta = \\frac{n\\sum(xy) - \\sum(x)\\sum(y)}{n\\sum(x^2) - (\\sum(x))^2}$</center></font>"
      ],
      "metadata": {
        "id": "eIw9S0Jov4-l"
      }
    },
    {
      "cell_type": "code",
      "source": [
        "beta = df['xycov'].sum() / df['xvar'].sum()\n",
        "alpha = ymean - (beta * xmean)\n",
        "print(f'alpha = {alpha}')\n",
        "print(f'beta = {beta}')"
      ],
      "metadata": {
        "colab": {
          "base_uri": "https://localhost:8080/"
        },
        "id": "o-AwdgXIv46N",
        "outputId": "9b05d066-8aa9-4352-f120-1ef18c9367ed"
      },
      "execution_count": 34,
      "outputs": [
        {
          "output_type": "stream",
          "name": "stdout",
          "text": [
            "alpha = 1.9734233360735431\n",
            "beta = 0.31436921108349586\n"
          ]
        }
      ]
    },
    {
      "cell_type": "markdown",
      "source": [
        "###Great, we now have an estimate for alpha and beta!\n",
        "\n",
        "<font size = 6><center>$y_{pred} = \\alpha + \\beta * X$</center></font></span>"
      ],
      "metadata": {
        "id": "eNs3YbS9v41R"
      }
    },
    {
      "cell_type": "code",
      "source": [
        "ypred = alpha + (beta*X)"
      ],
      "metadata": {
        "id": "PVjpxhIXv4wE"
      },
      "execution_count": 35,
      "outputs": []
    },
    {
      "cell_type": "markdown",
      "source": [
        "# Plotting our data and line"
      ],
      "metadata": {
        "id": "KzfwIyIIv4qx"
      }
    },
    {
      "cell_type": "code",
      "source": [
        "# Let’s plot our prediction ypred against the actual values of y, \n",
        "# to get a better visual understanding of our model.\n",
        "\n",
        "# Plot regression against actual data\n",
        "plt.figure(figsize=(12, 6))\n",
        "plt.plot(X, ypred)     # regression line\n",
        "plt.plot(X, y, 'ro')   # scatter plot showing actual data\n",
        "plt.title('Actual vs Predicted')\n",
        "plt.xlabel('X')\n",
        "plt.ylabel('y')"
      ],
      "metadata": {
        "colab": {
          "base_uri": "https://localhost:8080/",
          "height": 421
        },
        "id": "1ASCKe35v4lt",
        "outputId": "fbea5686-bdca-4d4f-cb8d-4218b7f9085e"
      },
      "execution_count": 36,
      "outputs": [
        {
          "output_type": "execute_result",
          "data": {
            "text/plain": [
              "Text(0, 0.5, 'y')"
            ]
          },
          "metadata": {},
          "execution_count": 36
        },
        {
          "output_type": "display_data",
          "data": {
            "text/plain": [
              "<Figure size 864x432 with 1 Axes>"
            ],
            "image/png": "[encoded data removed]"
          },
          "metadata": {
            "needs_background": "light"
          }
        }
      ]
    },
    {
      "cell_type": "markdown",
      "source": [
        "# Part II"
      ],
      "metadata": {
        "id": "ISJTbdd_4QIU"
      }
    },
    {
      "cell_type": "markdown",
      "source": [
        "# Linear Regression\n",
        "\n",
        "Linear regression is a classic method of fitting a line to a set of data. It can be extended to fitting any curve with linear coefficients."
      ],
      "metadata": {
        "id": "YMSYvdqG4QEI"
      }
    },
    {
      "cell_type": "markdown",
      "source": [
        "## Basic Algebra\n",
        "\n",
        "A line can be defined using this standard equation:\n",
        "\n",
        "$$y = a x + b$$\n",
        "\n",
        "Where $a$ is the slope and $b$ is the y-intercept. Given two sets of points $x_1, y_1$ and $x_2, y_2$, we have two equations with two unknowns. It is then possible to solve for $a$ and $b$ explicitly.\n",
        "\n",
        "For example, given the points 2, 1 and 3, 3, we can visualize these points:"
      ],
      "metadata": {
        "id": "X2mRkPPx4P_5"
      }
    },
    {
      "cell_type": "code",
      "source": [
        "(x1, y1) = (2, 1)\n",
        "(x2, y2) = (3, 3)\n",
        "\n",
        "plt.plot(x1, y1, 'ro')\n",
        "plt.plot(x2, y2, 'ro')\n",
        "plt.plot([x1, x2], [y1, y2])\n",
        "plt.show()"
      ],
      "metadata": {
        "colab": {
          "base_uri": "https://localhost:8080/",
          "height": 265
        },
        "id": "mLoMutJb4P7w",
        "outputId": "cb624393-2b05-4174-eee9-15a6dc585875"
      },
      "execution_count": 37,
      "outputs": [
        {
          "output_type": "display_data",
          "data": {
            "text/plain": [
              "<Figure size 432x288 with 1 Axes>"
            ],
            "image/png": "[encoded data removed]"
          },
          "metadata": {
            "needs_background": "light"
          }
        }
      ]
    },
    {
      "cell_type": "markdown",
      "source": [
        "To solve for constants $a$ and $b$, we can write these two equations:\n",
        "\n",
        "$$1 = 2 a + b$$\n",
        "\n",
        "$$3 = 3 a + b$$\n",
        "\n",
        "Using basic algebra, we find the values for $a$ and $b$ are:\n",
        "\n",
        "$$a = 2$$\n",
        "\n",
        "$$b = -3$$\n",
        "\n",
        "Redrawing the graph with the y-intercept:"
      ],
      "metadata": {
        "id": "k88phmsE4P31"
      }
    },
    {
      "cell_type": "code",
      "source": [
        "a = 2\n",
        "b = -3\n",
        "\n",
        "plt.plot(x1, y1, 'ro')\n",
        "plt.plot(x2, y2, 'ro')\n",
        "plt.plot([0, x2], [b, y2])\n",
        "plt.show()"
      ],
      "metadata": {
        "colab": {
          "base_uri": "https://localhost:8080/",
          "height": 265
        },
        "id": "4Pvn8q9H4Pv1",
        "outputId": "9513fe48-ca1f-4ad5-9be6-575a38353557"
      },
      "execution_count": 38,
      "outputs": [
        {
          "output_type": "display_data",
          "data": {
            "text/plain": [
              "<Figure size 432x288 with 1 Axes>"
            ],
            "image/png": "[encoded data removed]"
          },
          "metadata": {
            "needs_background": "light"
          }
        }
      ]
    },
    {
      "cell_type": "markdown",
      "source": [
        "## Linear Algebra\n",
        "\n",
        "The problem above can be abstracted using [linear algebra](https://en.wikipedia.org/wiki/Linear_algebra). The system of equations above can be rewritten in matrix form: #https://people.ucsc.edu/~dgbonett/docs/psyc214b/Matrix.pdf\n",
        "\n",
        "$$1 = 2 a + b$$\n",
        "\n",
        "$$3 = 3 a + b$$\n",
        "\n",
        "$$ \\begin{bmatrix}\n",
        "1 \\\\\n",
        "3\n",
        "\\end{bmatrix} = \\begin{bmatrix}\n",
        "2 & 1 \\\\\n",
        "3 & 1 \\\\\n",
        "\\end{bmatrix} \\begin{bmatrix}\n",
        "a \\\\\n",
        "b\n",
        "\\end{bmatrix}$$\n",
        "\n",
        "This can be written more generally as matrix equation\n",
        "\n",
        "$$y = A v$$\n",
        "\n",
        "Where $y$ and $v$ are vectors and $A$ is a matrix:\n",
        "\n",
        "$$y = \\begin{bmatrix}\n",
        "1 \\\\\n",
        "3\n",
        "\\end{bmatrix}$$\n",
        "\n",
        "$$v = \\begin{bmatrix}\n",
        "a \\\\\n",
        "b\n",
        "\\end{bmatrix}$$\n",
        "\n",
        "$$A = \\begin{bmatrix}\n",
        "2 & 1 \\\\\n",
        "3 & 1 \\\\\n",
        "\\end{bmatrix}$$"
      ],
      "metadata": {
        "id": "RmslveNW4Pri"
      }
    },
    {
      "cell_type": "markdown",
      "source": [
        "To solve for $a$ and $b$, which is equivalent to solving for the vector $v$, consider how we would solve a simple equation such as\n",
        "\n",
        "$$1 = 2 x$$\n",
        "\n",
        "We could multiply both sides of the equation by the inverse of $2$, which is $2^{-1}$\n",
        "\n",
        "$$2^{-1} \\times 1 = 2^{-1} \\times 2 x$$\n",
        "\n",
        "$2 \\times 2^{-1}$ is just $1$, so\n",
        "\n",
        "$$x = \\frac{1}{2}$$"
      ],
      "metadata": {
        "id": "Hqk5jCMz5lD1"
      }
    },
    {
      "cell_type": "markdown",
      "source": [
        "By analogy, multiplying the matrix equation above by the inverse of $A$ or $A^{-1}$ on both sides would look like this\n",
        "\n",
        "$$y = A v$$\n",
        "\n",
        "$$A^{-1} y = A^{-1} A v$$\n",
        "\n",
        "The quantity $A^{-1} A$ becomes the [identity matrix](https://en.wikipedia.org/wiki/Identity_matrix), so the vector $v$ would then be\n",
        "\n",
        "$$v = A^{-1} y$$\n",
        "\n",
        "NumPy contains methods to compute the inverse of a matrix."
      ],
      "metadata": {
        "id": "aqNQMj1_5kzH"
      }
    },
    {
      "cell_type": "code",
      "source": [
        "# Create a 2x2 matrix\n",
        "\n",
        "A = np.array([[x1, 1], [x2, 1]])\n",
        "A"
      ],
      "metadata": {
        "colab": {
          "base_uri": "https://localhost:8080/"
        },
        "id": "aUzuNU_G5ktu",
        "outputId": "1b5543aa-777b-41ae-8d0c-fb74ab2ea47c"
      },
      "execution_count": 39,
      "outputs": [
        {
          "output_type": "execute_result",
          "data": {
            "text/plain": [
              "array([[2, 1],\n",
              "       [3, 1]])"
            ]
          },
          "metadata": {},
          "execution_count": 39
        }
      ]
    },
    {
      "cell_type": "code",
      "source": [
        "# Compute the inverse of A\n",
        "\n",
        "Ainv = np.linalg.inv(A)\n",
        "Ainv"
      ],
      "metadata": {
        "colab": {
          "base_uri": "https://localhost:8080/"
        },
        "id": "Lq_AjMKe5ko1",
        "outputId": "6d97e750-b413-49e9-8407-c40ebae27f91"
      },
      "execution_count": 40,
      "outputs": [
        {
          "output_type": "execute_result",
          "data": {
            "text/plain": [
              "array([[-1.,  1.],\n",
              "       [ 3., -2.]])"
            ]
          },
          "metadata": {},
          "execution_count": 40
        }
      ]
    },
    {
      "cell_type": "code",
      "source": [
        "# Multiply the inverse of A with A to confirm it produces the identity matrix\n",
        "\n",
        "Ainv.dot(A)"
      ],
      "metadata": {
        "colab": {
          "base_uri": "https://localhost:8080/"
        },
        "id": "ZYFEZ7Iv5kQl",
        "outputId": "fdb7835f-352c-4e6e-f5f9-89e4a4503a38"
      },
      "execution_count": 41,
      "outputs": [
        {
          "output_type": "execute_result",
          "data": {
            "text/plain": [
              "array([[1.0000000e+00, 0.0000000e+00],\n",
              "       [4.4408921e-16, 1.0000000e+00]])"
            ]
          },
          "metadata": {},
          "execution_count": 41
        }
      ]
    },
    {
      "cell_type": "markdown",
      "source": [
        "This is the value of the identity matrix with a very small round-off error:\n",
        "\n",
        "$$A^{-1} A = I = \\begin{bmatrix}\n",
        "1 & 0 \\\\\n",
        "0 & 1 \\\\\n",
        "\\end{bmatrix}$$\n",
        "\n",
        "Multiplying the vector $v$ with $A^{-1}$ on the left yields the vector $y$:"
      ],
      "metadata": {
        "id": "f5lJSAPx5kKp"
      }
    },
    {
      "cell_type": "code",
      "source": [
        "y = np.array([1, 3])\n",
        "v = Ainv.dot(y)\n",
        "v"
      ],
      "metadata": {
        "colab": {
          "base_uri": "https://localhost:8080/"
        },
        "id": "SZx1UrB85kFF",
        "outputId": "2e7ee4eb-ed53-47cc-8990-e7cf46764bd9"
      },
      "execution_count": 42,
      "outputs": [
        {
          "output_type": "execute_result",
          "data": {
            "text/plain": [
              "array([ 2., -3.])"
            ]
          },
          "metadata": {},
          "execution_count": 42
        }
      ]
    },
    {
      "cell_type": "markdown",
      "source": [
        "Which is the same result as before with basic algebra."
      ],
      "metadata": {
        "id": "iU4XYYyI5kAE"
      }
    },
    {
      "cell_type": "markdown",
      "source": [
        "## More Data\n",
        "\n",
        "Consider the case when more than two data points are available."
      ],
      "metadata": {
        "id": "Zx-dzN4P68Hk"
      }
    },
    {
      "cell_type": "markdown",
      "source": [
        "This can be rewritten in matrix form:\n",
        "\n",
        "$$ \\begin{bmatrix}\n",
        "y_1 \\\\\n",
        "y_2 \\\\\n",
        "... \\\\\n",
        "y_n\n",
        "\\end{bmatrix} = \\begin{bmatrix}\n",
        "x_1 & 1 \\\\\n",
        "x_2 & 1 \\\\\n",
        "... \\\\\n",
        "x_n & 1\n",
        "\\end{bmatrix} \\begin{bmatrix}\n",
        "a \\\\\n",
        "b\n",
        "\\end{bmatrix}$$"
      ],
      "metadata": {
        "id": "YuLdBVzy678j"
      }
    },
    {
      "cell_type": "markdown",
      "source": [
        "Introduce variables for simplification:\n",
        "\n",
        "$$ y = \\begin{bmatrix}\n",
        "y_1 \\\\\n",
        "y_2 \\\\\n",
        "... \\\\\n",
        "y_n\n",
        "\\end{bmatrix}$$\n",
        "\n",
        "$$ A = \\begin{bmatrix}\n",
        "x_1 & 1 \\\\\n",
        "x_2 & 1 \\\\\n",
        "... \\\\\n",
        "x_n & 1\n",
        "\\end{bmatrix}$$\n",
        "\n",
        "$$ v = \\begin{bmatrix}\n",
        "a \\\\\n",
        "b\n",
        "\\end{bmatrix}$$"
      ],
      "metadata": {
        "id": "y8fwk8hP67z_"
      }
    },
    {
      "cell_type": "markdown",
      "source": [
        "Substitute variables above to produce a simplifed form:\n",
        "\n",
        "$$ y = A v$$"
      ],
      "metadata": {
        "id": "xkcwTU1s67qE"
      }
    },
    {
      "cell_type": "markdown",
      "source": [
        "If $A$ is a square matrix, i.e. $n = 2$, $a$ and $b$ can be determined exactly:\n",
        "\n",
        "$$ \\begin{bmatrix}\n",
        "a \\\\\n",
        "b\n",
        "\\end{bmatrix} = v = A^{-1} y$$"
      ],
      "metadata": {
        "id": "1XHh756167Rc"
      }
    },
    {
      "cell_type": "markdown",
      "source": [
        "In the case where $n > 2$, $A$ is not square and cannot be inverted. One solution is to compute a pseudo-inverse by multiplying $A$ by it's transpose $A^T$, which will yield a square matrix on the right hand side:\n",
        "\n",
        "$$ A^T y = A^T A v$$"
      ],
      "metadata": {
        "id": "i_0XhHs_67FS"
      }
    },
    {
      "cell_type": "markdown",
      "source": [
        "The matrix $A^T A$ on the right can be eliminated by multiplying by it's inverse $(A^T A)^{-1}$:\n",
        "\n",
        "$$ (A^T A)^{-1} A^T y = (A^T A)^{-1} (A^T A) v$$"
      ],
      "metadata": {
        "id": "CkI0mz9V6699"
      }
    },
    {
      "cell_type": "markdown",
      "source": [
        "Simplifying yields the result for $a$ and $b$:\n",
        "\n",
        "$$ v = \\begin{bmatrix}\n",
        "a \\\\\n",
        "b\n",
        "\\end{bmatrix} = (A^T A)^{-1} A^T y$$"
      ],
      "metadata": {
        "id": "OIxcM8lz663R"
      }
    },
    {
      "cell_type": "markdown",
      "source": [
        "## Numerical Example\n",
        "\n",
        "The following is an example with real values."
      ],
      "metadata": {
        "id": "3QrZtxxF66xD"
      }
    },
    {
      "cell_type": "code",
      "source": [
        "x = np.array([-0.40033681,  1.12710083,  1.51535892,  3.13012734,  3.07744676,\n",
        "        4.25275393,  6.535855  ,  4.23343874,  8.048823  ,  7.38773014,\n",
        "        9.91933651, 12.69142755, 11.61959316, 12.20667906, 13.98048109,\n",
        "       16.07602619, 16.31351797, 17.31102756, 17.74511659, 17.66863483])\n",
        "\n",
        "y = np.array([ 0.7261771 ,  2.86206199, -0.2489528 ,  0.63325248,  4.49244568,\n",
        "        5.30531409, 13.6101148 ,  8.48395548, 10.42996366, 14.74172737,\n",
        "       15.88897483, 23.76571743, 23.61602269, 20.17880228, 25.85779471,\n",
        "       30.11114371, 26.88735809, 28.57977723, 30.99383456, 33.03676545])\n",
        "\n",
        "plt.scatter(x, y, color='red')\n",
        "plt.show()"
      ],
      "metadata": {
        "colab": {
          "base_uri": "https://localhost:8080/",
          "height": 265
        },
        "id": "Pndd5vlv66rb",
        "outputId": "b85ab01e-3ca0-4ef3-d34d-2e96287e0e90"
      },
      "execution_count": 43,
      "outputs": [
        {
          "output_type": "display_data",
          "data": {
            "text/plain": [
              "<Figure size 432x288 with 1 Axes>"
            ],
            "image/png": "[encoded data removed]"
          },
          "metadata": {
            "needs_background": "light"
          }
        }
      ]
    },
    {
      "cell_type": "markdown",
      "source": [
        "Prepare matrix A of the form\n",
        "\n",
        "$$A = \\begin{bmatrix}\n",
        "x_1 & 1 \\\\\n",
        "x_2 & 1 \\\\\n",
        "... \\\\\n",
        "x_n & 1\n",
        "\\end{bmatrix}$$"
      ],
      "metadata": {
        "id": "ECDdpo8U66l0"
      }
    },
    {
      "cell_type": "code",
      "source": [
        "x"
      ],
      "metadata": {
        "colab": {
          "base_uri": "https://localhost:8080/"
        },
        "id": "fmQJSUYG8eq4",
        "outputId": "ac1fc924-1754-4673-ef76-523ddd673c12"
      },
      "execution_count": 44,
      "outputs": [
        {
          "output_type": "execute_result",
          "data": {
            "text/plain": [
              "array([-0.40033681,  1.12710083,  1.51535892,  3.13012734,  3.07744676,\n",
              "        4.25275393,  6.535855  ,  4.23343874,  8.048823  ,  7.38773014,\n",
              "        9.91933651, 12.69142755, 11.61959316, 12.20667906, 13.98048109,\n",
              "       16.07602619, 16.31351797, 17.31102756, 17.74511659, 17.66863483])"
            ]
          },
          "metadata": {},
          "execution_count": 44
        }
      ]
    },
    {
      "cell_type": "code",
      "source": [
        "ones = np.ones((len(x), 1))\n",
        "ones"
      ],
      "metadata": {
        "colab": {
          "base_uri": "https://localhost:8080/"
        },
        "id": "Q06RkEXh8jxq",
        "outputId": "525d270b-6fb7-4ef3-d9c1-b1bf207fac8f"
      },
      "execution_count": 45,
      "outputs": [
        {
          "output_type": "execute_result",
          "data": {
            "text/plain": [
              "array([[1.],\n",
              "       [1.],\n",
              "       [1.],\n",
              "       [1.],\n",
              "       [1.],\n",
              "       [1.],\n",
              "       [1.],\n",
              "       [1.],\n",
              "       [1.],\n",
              "       [1.],\n",
              "       [1.],\n",
              "       [1.],\n",
              "       [1.],\n",
              "       [1.],\n",
              "       [1.],\n",
              "       [1.],\n",
              "       [1.],\n",
              "       [1.],\n",
              "       [1.],\n",
              "       [1.]])"
            ]
          },
          "metadata": {},
          "execution_count": 45
        }
      ]
    },
    {
      "cell_type": "code",
      "source": [
        "x_matrix = x.reshape((-1, 1))\n",
        "ones = np.ones((len(x), 1))\n",
        "A = np.append(x_matrix, ones, axis=1)\n",
        "A"
      ],
      "metadata": {
        "colab": {
          "base_uri": "https://localhost:8080/"
        },
        "id": "IE-Ha5mg8Raf",
        "outputId": "8ec4e733-8a67-4f5e-909c-0774b0398261"
      },
      "execution_count": 46,
      "outputs": [
        {
          "output_type": "execute_result",
          "data": {
            "text/plain": [
              "array([[-0.40033681,  1.        ],\n",
              "       [ 1.12710083,  1.        ],\n",
              "       [ 1.51535892,  1.        ],\n",
              "       [ 3.13012734,  1.        ],\n",
              "       [ 3.07744676,  1.        ],\n",
              "       [ 4.25275393,  1.        ],\n",
              "       [ 6.535855  ,  1.        ],\n",
              "       [ 4.23343874,  1.        ],\n",
              "       [ 8.048823  ,  1.        ],\n",
              "       [ 7.38773014,  1.        ],\n",
              "       [ 9.91933651,  1.        ],\n",
              "       [12.69142755,  1.        ],\n",
              "       [11.61959316,  1.        ],\n",
              "       [12.20667906,  1.        ],\n",
              "       [13.98048109,  1.        ],\n",
              "       [16.07602619,  1.        ],\n",
              "       [16.31351797,  1.        ],\n",
              "       [17.31102756,  1.        ],\n",
              "       [17.74511659,  1.        ],\n",
              "       [17.66863483,  1.        ]])"
            ]
          },
          "metadata": {},
          "execution_count": 46
        }
      ]
    },
    {
      "cell_type": "markdown",
      "source": [
        "# Compute the pseudo-inverse\n",
        "#https://www.geeksforgeeks.org/moore-penrose-pseudoinverse-mathematics/#:~:text=In%20linear%20algebra%20pseudoinverse%20%28%29%20of%20a%20matrix,the%20most%20widely%20known%20type%20of%20matrix%20pseudoinverse.\n",
        "$$(A^T A)^{-1} A^T$$"
      ],
      "metadata": {
        "id": "oqaPNQc-8RMk"
      }
    },
    {
      "cell_type": "code",
      "source": [
        "At = A.T\n",
        "pseudo_inv = np.linalg.inv(At.dot(A)).dot(At)\n",
        "pseudo_inv"
      ],
      "metadata": {
        "colab": {
          "base_uri": "https://localhost:8080/"
        },
        "id": "aIWDroB28Q_a",
        "outputId": "fa81ba53-0a24-4fa2-bbc0-405a4891e3dc"
      },
      "execution_count": 47,
      "outputs": [
        {
          "output_type": "execute_result",
          "data": {
            "text/plain": [
              "array([[-0.01354453, -0.01139449, -0.01084797, -0.008575  , -0.00864916,\n",
              "        -0.00699478, -0.00378106, -0.00702197, -0.00165139, -0.00258195,\n",
              "         0.00098157,  0.0048836 ,  0.00337487,  0.00420126,  0.00669809,\n",
              "         0.0096478 ,  0.0099821 ,  0.01138621,  0.01199723,  0.01188958],\n",
              "       [ 0.17490775,  0.15508006,  0.15004008,  0.12907875,  0.1297626 ,\n",
              "         0.11450593,  0.08486897,  0.11475666,  0.06522911,  0.07381077,\n",
              "         0.04094796,  0.00496341,  0.01887691,  0.01125594, -0.0117698 ,\n",
              "        -0.0389721 , -0.04205498, -0.05500366, -0.06063858, -0.05964577]])"
            ]
          },
          "metadata": {},
          "execution_count": 47
        }
      ]
    },
    {
      "cell_type": "markdown",
      "source": [
        "Compute $a$ and $b$ by multiplying the pseudo-inverse times $y$\n",
        "\n",
        "$$\\begin{bmatrix}\n",
        "a \\\\\n",
        "b\n",
        "\\end{bmatrix} = (A^T A)^{-1} A^T y$$"
      ],
      "metadata": {
        "id": "ftxORrRg8Qy7"
      }
    },
    {
      "cell_type": "code",
      "source": [
        "(a, b) = pseudo_inv.dot(y)\n",
        "\n",
        "x_points = [0, 20]\n",
        "y_points = [a*x + b for x in x_points]\n",
        "plt.scatter(x, y, color='red')\n",
        "plt.plot(x_points, y_points)\n",
        "plt.show()"
      ],
      "metadata": {
        "colab": {
          "base_uri": "https://localhost:8080/",
          "height": 265
        },
        "id": "KYorLKi78QmQ",
        "outputId": "194eb603-6786-4cef-a13d-87fda6d8733a"
      },
      "execution_count": 48,
      "outputs": [
        {
          "output_type": "display_data",
          "data": {
            "text/plain": [
              "<Figure size 432x288 with 1 Axes>"
            ],
            "image/png": "[encoded data removed]"
          },
          "metadata": {
            "needs_background": "light"
          }
        }
      ]
    },
    {
      "cell_type": "markdown",
      "source": [
        "## Model Accuracy\n",
        "\n",
        "The accuracy of the model above can be measured by computing the mean squared error between predicted and training values:\n",
        "\n",
        "$$ \\epsilon = \\frac{1}{m} \\sum_{i=1}^{m} (a x_i + b - y_i)^2 $$\n",
        "\n",
        "The prediction error can be computed in the same way, but using the test samples instead of the training samples.\n",
        "\n",
        "Test error can be different and training error, for example:\n",
        "\n",
        "- If training error is high, this is a case of __high bias__. This generally means the model is not powerful enough to fit the training data.\n",
        "- If the training error is low, but the test error is high, this is a case of __high variance__. This usually often means the model is overfitting and does not generalize well with data it has not seen."
      ],
      "metadata": {
        "id": "ldQJeYtI8QVD"
      }
    },
    {
      "cell_type": "code",
      "source": [
        "epsilon = ((a*x + b - y)**2).mean()\n",
        "math.sqrt(epsilon)"
      ],
      "metadata": {
        "colab": {
          "base_uri": "https://localhost:8080/"
        },
        "id": "fPfSiFmi8QKe",
        "outputId": "2ff30c49-0918-48a2-f614-3e4aa4c1f6e2"
      },
      "execution_count": 49,
      "outputs": [
        {
          "output_type": "execute_result",
          "data": {
            "text/plain": [
              "2.125412002520472"
            ]
          },
          "metadata": {},
          "execution_count": 49
        }
      ]
    },
    {
      "cell_type": "markdown",
      "source": [
        "## Extending the Model\n",
        "\n",
        "In the case where a straight line will not accurately fit the available data, a more complex model can be used. For example, a quadratic model might be more suitable: #https://lisbdnet.com/what-is-a-quadratic-model/#:~:text=What%20is%20the%20quadratic%20model%3F%20A%20mathematical%20model,is%20a%20parabola%20when%20plotted%20on%20a%20graph.\n",
        "\n",
        "$$ y_i = a {x_i}^2 + b x_i + c \\tag{10}$$"
      ],
      "metadata": {
        "id": "ppfqJ3QI8QAJ"
      }
    },
    {
      "cell_type": "markdown",
      "source": [
        "In matrix form:\n",
        "\n",
        "$$ \\begin{bmatrix}\n",
        "y_1 \\\\\n",
        "y_2 \\\\\n",
        "... \\\\\n",
        "y_n\n",
        "\\end{bmatrix} = \\begin{bmatrix}\n",
        "{x_1}^2 & x_1 & 1 \\\\\n",
        "{x_2}^2 & x_2 & 1 \\\\\n",
        "... \\\\\n",
        "{x_n}^2 & x_n & 1\n",
        "\\end{bmatrix} \\begin{bmatrix}\n",
        "a \\\\\n",
        "b \\\\\n",
        "c\n",
        "\\end{bmatrix} \\tag{11}$$"
      ],
      "metadata": {
        "id": "RElbsdig8P3I"
      }
    },
    {
      "cell_type": "markdown",
      "source": [
        "In this case the matrix $A$ is:\n",
        "\n",
        "$$ A = \\begin{bmatrix}\n",
        "{x_1}^2 & x_1 & 1 \\\\\n",
        "{x_2}^2 & x_2 & 1 \\\\\n",
        "... \\\\\n",
        "{x_n}^2 & x_n & 1\n",
        "\\end{bmatrix}\\tag{12}$$"
      ],
      "metadata": {
        "id": "OPpHGWBW-DQm"
      }
    }
  ]
}